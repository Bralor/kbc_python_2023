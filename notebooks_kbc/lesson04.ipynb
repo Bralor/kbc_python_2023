{
 "cells": [
  {
   "cell_type": "markdown",
   "metadata": {},
   "source": [
    "# Python akademie\n",
    "\n",
    "---\n",
    "\n",
    "1. [Iterační protokol](#Iterační-protokol),\n",
    "2. [for loop](#For-loop),\n",
    "   - [Obecně FOR loop](),\n",
    "   - [cvičení](),\n",
    "   - [s proměnnou a podmínkou](),\n",
    "   - [FOR/ELSE](),\n",
    "   - [FOR s doplňujícím ohlášením](),\n",
    "   - [cvičení](),\n",
    "3. [while loop](#While-loop),\n",
    "   - [obecně WHILE loop](),\n",
    "   - [WHILE s doplňující podmínkou](),\n",
    "   - [WHILE/ELSE](),\n",
    "   - [nekonečná smyčka](),\n",
    "   - [cvičení](),\n",
    "5. [range](#Datový-typ-RANGE),\n",
    "6. [enumerate](#Enumerate),\n",
    "7. [zip](#Zip),\n",
    "6. [walrus](#Walrus),\n",
    "7. [domácí úkol](#Domácí-úkol)."
   ]
  },
  {
   "cell_type": "markdown",
   "metadata": {},
   "source": [
    "<br>\n",
    "\n",
    "<img src=\"https://external-content.duckduckgo.com/iu/?u=https%3A%2F%2Ftse1.mm.bing.net%2Fth%3Fid%3DOIP.yg9qTK4GbobmIc9KTC39pQHaFy%26pid%3DApi&f=1\" width=\"200\" style=\"margin-left:auto; margin-right:auto\" />\n",
    "\n",
    "## Iterační protokol a.k.a. cyklus\n",
    "\n",
    "---"
   ]
  },
  {
   "cell_type": "markdown",
   "metadata": {},
   "source": [
    "V některých situacích se můžeš setkat s **opakujícím se zápisem**:\n",
    "```python\n",
    "\n",
    "# Máš set..\n",
    "domena = set()\n",
    "\n",
    "# .. chceš procházet stringy s emaily..\n",
    "email_1 = \"m.vybiralova@firma.cz\"\n",
    "email_2 = \"m.vybiralova@email.cz\"\n",
    "email_3 = \"m.vybiralova@dobradomena.cz\"\n",
    "email_4 = \"marie@vybiralova.cz\"\n",
    "email_5 = \"marie.vybiralova@gmail.com\"\n",
    "\n",
    "# ..a do původního setu ukládat pouze jména domén.\n",
    "domena = set(\n",
    "    (\n",
    "        email_1.split(\"@\")[1].split(\".\")[0],\n",
    "        email_2.split(\"@\")[1].split(\".\")[0],\n",
    "        email_3.split(\"@\")[1].split(\".\")[0],\n",
    "        email_4.split(\"@\")[1].split(\".\")[0],\n",
    "        email_5.split(\"@\")[1].split(\".\")[0]\n",
    "    )\n",
    ")\n",
    "```"
   ]
  },
  {
   "cell_type": "markdown",
   "metadata": {},
   "source": [
    "Ten nutně nemusí znamenat **chybný** nebo **nelogický zápis**, ale pokud chceš provádět podobný postup 10x, 100x, 1000x, už může být nereálný na zapsání.\n",
    "```python\n",
    "emaily = list()\n",
    "\n",
    "# pro každý email v listu emailu\n",
    "# .. vyber email,\n",
    "# .. označ pouze doménu,\n",
    "# .. ulož ji do setu.\n",
    "\n",
    "```"
   ]
  },
  {
   "cell_type": "markdown",
   "metadata": {},
   "source": [
    "<br>\n",
    "\n",
    "Pro periodické opakování ohlášení existují tzv. *iterační protokoly* (příp.  označovány jako smyčky, cykly, loopy).\n",
    "\n",
    "Ty umožní zápis **zkrátit, automatizovat** a **současně udělat přehlednější**.\n",
    "\n",
    "<br>\n",
    "\n",
    "V rámci Pythonu se budeme bavit o **dvou základních typech smyček**:\n",
    "1. smyčka `for`,\n",
    "2. smyčka `while`,\n",
    "3. (generátor).\n",
    "\n",
    "\n",
    "<br>"
   ]
  },
  {
   "cell_type": "markdown",
   "metadata": {},
   "source": [
    "<img src=\"https://external-content.duckduckgo.com/iu/?u=https%3A%2F%2Ftse2.mm.bing.net%2Fth%3Fid%3DOIP.XOkl2fR4SKcajGnAi6KoZQHaDt%26pid%3DApi&f=1\" width=\"400\" style=\"margin-left:auto; margin-right:auto\" />\n",
    "\n",
    "## For loop\n",
    "\n",
    "---\n",
    "\n",
    "*For cyklus* je v jednoduchosti proces, který ti umožní projít tebou zadaný objekt **od prvního údaje** až **do posledního**."
   ]
  },
  {
   "cell_type": "markdown",
   "metadata": {},
   "source": [
    "<br>\n",
    "\n",
    "### Obecně loop\n",
    "\n",
    "---"
   ]
  },
  {
   "cell_type": "code",
   "execution_count": 22,
   "metadata": {},
   "outputs": [
    {
     "name": "stdout",
     "output_type": "stream",
     "text": [
      "M\n",
      "a\n",
      "t\n",
      "o\n",
      "u\n",
      "s\n"
     ]
    }
   ],
   "source": [
    "for pismeno in \"Matous\":\n",
    "    print(pismeno)"
   ]
  },
  {
   "cell_type": "markdown",
   "metadata": {},
   "source": [
    "1. `for` je **klíčkový výraz** v zahlaví (zápisu) cyklu,\n",
    "2. `pismeno` je **proměnná vytvořená v cyklu**,jejíž obsah se v každém kroku cyklu přepíše,\n",
    "3. `in` **klíčový výraz** ukazující zdroj objektů pro dočasnou proměnnou,\n",
    "4. `\"Matous\"` je tzv. *iterovatelný objekt*, tedy proměnná, kterou můžeme procházet (třeba `str`, `list`, `set`, `dict`),\n",
    "5. `:` řádek s předpisem musí být **zakončený dvojtečkou**,\n",
    "6. `print(pismeno)` následují **odsazené instrukce**, které se budou opakovat v každém kroku.\n",
    "\n",
    "<br>\n",
    "\n",
    "Obecný cyklus *for* se dá různě upravovat.\n",
    "\n",
    "Jednou z možností a častých kombinací je doplnit cyklus **podmínkovým zápisem**.\n",
    "\n",
    "<br>"
   ]
  },
  {
   "cell_type": "markdown",
   "metadata": {},
   "source": [
    "### S proměnnou a podmínkou\n",
    "\n",
    "---\n",
    "Cyklus lze kombinovat s objekty, které jsou ti již dobře známé. Tedy *proměnné* a *podmínkové zápisy*:"
   ]
  },
  {
   "cell_type": "code",
   "execution_count": 24,
   "metadata": {},
   "outputs": [],
   "source": [
    "pismena = [\"a\", \"b\", \"c\", \"d\", \"e\", \"f\", \"g\", \"h\", \"i\"]"
   ]
  },
  {
   "cell_type": "code",
   "execution_count": 25,
   "metadata": {},
   "outputs": [
    {
     "name": "stdout",
     "output_type": "stream",
     "text": [
      "Nemam 'g', ale a\n",
      "Nemam 'g', ale b\n",
      "Nemam 'g', ale c\n",
      "Nemam 'g', ale d\n",
      "Nemam 'g', ale e\n",
      "Nemam 'g', ale f\n",
      "*Mam hodnotu ->* g\n",
      "Nemam 'g', ale h\n",
      "Nemam 'g', ale i\n"
     ]
    }
   ],
   "source": [
    "for pismeno in pismena:\n",
    "    if pismeno == \"g\":  # \"a\" --> False\n",
    "        print(\"*Mam hodnotu ->*\", pismeno)\n",
    "    else:\n",
    "        print(\"Nemam 'g', ale\", pismeno)"
   ]
  },
  {
   "cell_type": "markdown",
   "metadata": {},
   "source": [
    "<br>\n",
    "\n",
    "### 🧠 CVIČENÍ 🧠, Vyzkoušej si práci s `for` smyčkou a podmínkovým zápisem:"
   ]
  },
  {
   "cell_type": "markdown",
   "metadata": {},
   "source": [
    "1. Procházej hodnoty pro zadaný `tuple` se jménem `cisla`,\n",
    "2. .. pokud je hodnota **dělitelná třemi**, vypiš `\"Fizz\"`,\n",
    "3. .. pokud je hodnota **dělitelná pěti**, vypiš `\"Buzz\"`,\n",
    "4. .. pokud je hodnota **dělitelná třemi a současně pěti**, vypiš `\"FizzBuzz\"`,\n",
    "5. .. pokud nebude platit ani jedna z předchozích podmínek, vypiš hodnotu samotnou."
   ]
  },
  {
   "cell_type": "code",
   "execution_count": 28,
   "metadata": {},
   "outputs": [
    {
     "name": "stdout",
     "output_type": "stream",
     "text": [
      "1\n",
      "2\n",
      "Fizz\n",
      "4\n",
      "Buzz\n",
      "Fizz\n",
      "7\n",
      "8\n",
      "Fizz\n",
      "Buzz\n",
      "11\n",
      "Fizz\n",
      "13\n",
      "14\n",
      "FizzBuzz\n"
     ]
    }
   ],
   "source": [
    "cisla = (1, 2, 3, 4, 5, 6, 7, 8, 9, 10, 11, 12, 13, 14, 15)\n",
    "\n",
    "for cislo in cisla:  # iter()\n",
    "    if cislo % 3 == 0 and cislo % 5 == 0:\n",
    "        print(\"FizzBuzz\")\n",
    "    elif cislo % 3 == 0:\n",
    "        print(\"Fizz\")\n",
    "    elif cislo % 5 ==0:\n",
    "        print(\"Buzz\")\n",
    "    else:\n",
    "        print(cislo)"
   ]
  },
  {
   "cell_type": "code",
   "execution_count": 29,
   "metadata": {},
   "outputs": [
    {
     "name": "stdout",
     "output_type": "stream",
     "text": [
      "15\n"
     ]
    }
   ],
   "source": [
    "print(cislo)"
   ]
  },
  {
   "cell_type": "markdown",
   "metadata": {},
   "source": [
    "<details>\n",
    "  <summary>▶️  Klikni zde pro zobrazení řešení</summary>\n",
    "   \n",
    "```python\n",
    "cisla = (1, 2, 3, 4, 5, 6, 7, 8, 9, 10, 11, 12, 13, 14, 15)\n",
    "\n",
    "for cislo in cisla:\n",
    "    if cislo % 3 == 0 and cislo % 5 == 0:\n",
    "        print(\"FizzBuzz\")\n",
    "    elif cislo % 3 == 0:\n",
    "        print(\"Fizz\")\n",
    "    elif cislo % 5 == 0:\n",
    "        print(\"Buzz\")\n",
    "    else:\n",
    "        print(cislo)\n",
    "```\n",
    "</details>"
   ]
  },
  {
   "cell_type": "markdown",
   "metadata": {},
   "source": [
    "<br>\n",
    "\n",
    "### For/else\n",
    "\n",
    "---\n",
    "\n",
    "Jde o **speciální syntaxi**, kde na ohlášení smyčky doplníš větev `else`, která má svoje využití:"
   ]
  },
  {
   "cell_type": "code",
   "execution_count": 30,
   "metadata": {},
   "outputs": [],
   "source": [
    "pismena = [\"a\", \"b\", \"c\", \"d\", \"e\", \"f\", \"g\", \"h\", \"i\"]"
   ]
  },
  {
   "cell_type": "code",
   "execution_count": 35,
   "metadata": {},
   "outputs": [
    {
     "name": "stdout",
     "output_type": "stream",
     "text": [
      "Nemam 'x', ale a\n",
      "Nemam 'x', ale b\n",
      "Nemam 'x', ale c\n",
      "Nemam 'x', ale d\n",
      "Nemam 'x', ale e\n",
      "Nemam 'x', ale f\n",
      "Nemam 'x', ale g\n",
      "Nemam 'x', ale h\n",
      "Nemam 'x', ale i\n",
      "-----------------------------\n",
      "Hledane pismeno neni v listu!\n",
      "-----------------------------\n"
     ]
    }
   ],
   "source": [
    "for pismeno in pismena:\n",
    "    if pismeno == \"x\":\n",
    "        print(\"*Mam hodnotu ->*\", pismeno)\n",
    "    else:\n",
    "        print(\"Nemam 'x', ale\", pismeno)\n",
    "\n",
    "else:  # je možné napsat klasickou větev s \"if\"\n",
    "    print(\"-\" * 29, \"Hledane pismeno neni v listu!\", \"-\" * 29, sep=\"\\n\")"
   ]
  },
  {
   "cell_type": "markdown",
   "metadata": {},
   "source": [
    "*poznámka*. Pomocný `else` se přidává k cyklu `for`, pokud chceme nějaký proces provést **až po úspěšném skončení celého cyklu**.\n",
    "\n",
    "<br>\n",
    "\n",
    "### For loop s doplňujícím ohlášením\n",
    "\n",
    "---\n",
    "\n",
    "Cykly můžeš doplnit **ohlášeními**, obzvlášť pokud potřebujeme **přeskočit**/**pokračovat** v  průběhu cyklu.\n",
    "\n",
    "<br>\n",
    "\n",
    "| Ohlášení | Použití |\n",
    "|:-:|:-|\n",
    "|`break` | **přeskočí** zbytek smyčky (vč. else větve) a pokračuje kódem pod ní |\n",
    "|`continue` | \t**vrací se** k definici smyčky |\n",
    "|`pass` | \ttzv. *placeholder*, zabrání potenciální výjimce |\n",
    "\n",
    "<br>\n",
    "\n",
    "### Ohlášení BREAK"
   ]
  },
  {
   "cell_type": "markdown",
   "metadata": {},
   "source": [
    "#### Obyčejný for loop"
   ]
  },
  {
   "cell_type": "code",
   "execution_count": 36,
   "metadata": {},
   "outputs": [
    {
     "name": "stdout",
     "output_type": "stream",
     "text": [
      "M\n",
      "a\n",
      "t\n",
      "o\n",
      "u\n",
      "s\n"
     ]
    }
   ],
   "source": [
    "for pismeno in \"Matous\":\n",
    "    print(pismeno)"
   ]
  },
  {
   "cell_type": "markdown",
   "metadata": {},
   "source": [
    "#### For loop a ohlášení break"
   ]
  },
  {
   "cell_type": "code",
   "execution_count": 37,
   "metadata": {},
   "outputs": [
    {
     "name": "stdout",
     "output_type": "stream",
     "text": [
      "M\n"
     ]
    }
   ],
   "source": [
    "for pismeno in \"Matous\":\n",
    "    print(pismeno)\n",
    "    break"
   ]
  },
  {
   "cell_type": "markdown",
   "metadata": {},
   "source": [
    "#### For/else bez ohlášení break"
   ]
  },
  {
   "cell_type": "code",
   "execution_count": 38,
   "metadata": {},
   "outputs": [
    {
     "name": "stdout",
     "output_type": "stream",
     "text": [
      "M\n",
      "a\n",
      "t\n",
      "o\n",
      "u\n",
      "s\n",
      "-----------------------------\n",
      "Konec smycky!\n",
      "-----------------------------\n"
     ]
    }
   ],
   "source": [
    "for pismeno in \"Matous\":\n",
    "    print(pismeno)\n",
    "else:\n",
    "    print(\"-\" * 29, \"Konec smycky!\", \"-\" * 29, sep=\"\\n\")"
   ]
  },
  {
   "cell_type": "markdown",
   "metadata": {},
   "source": [
    "#### For/else s ohlášením break"
   ]
  },
  {
   "cell_type": "code",
   "execution_count": 39,
   "metadata": {},
   "outputs": [
    {
     "name": "stdout",
     "output_type": "stream",
     "text": [
      "M\n"
     ]
    }
   ],
   "source": [
    "for pismeno in \"Matous\":\n",
    "    print(pismeno)\n",
    "    break\n",
    "else:\n",
    "    print(\"-\" * 29, \"Konec smycky!\", \"-\" * 29, sep=\"\\n\")"
   ]
  },
  {
   "cell_type": "markdown",
   "metadata": {},
   "source": [
    "#### For loop s ohlášením break bez else"
   ]
  },
  {
   "cell_type": "code",
   "execution_count": 40,
   "metadata": {},
   "outputs": [
    {
     "name": "stdout",
     "output_type": "stream",
     "text": [
      "M\n",
      "-----------------------------\n",
      "Konec smycky!\n",
      "-----------------------------\n"
     ]
    }
   ],
   "source": [
    "for pismeno in \"Matous\":\n",
    "    print(pismeno)\n",
    "    break\n",
    "\n",
    "print(\"-\" * 29, \"Konec smycky!\", \"-\" * 29, sep=\"\\n\")"
   ]
  },
  {
   "cell_type": "markdown",
   "metadata": {},
   "source": [
    "#### For/else s ohlášením break a doplňujícím ohlášením pod cyklem"
   ]
  },
  {
   "cell_type": "code",
   "execution_count": 41,
   "metadata": {},
   "outputs": [],
   "source": [
    "pismena = [\"a\", \"b\", \"c\", \"d\", \"e\", \"f\", \"g\", \"h\"]"
   ]
  },
  {
   "cell_type": "code",
   "execution_count": 42,
   "metadata": {},
   "outputs": [
    {
     "name": "stdout",
     "output_type": "stream",
     "text": [
      "Nemam 'e', ale a\n",
      "Nemam 'e', ale b\n",
      "Nemam 'e', ale c\n",
      "Nemam 'e', ale d\n",
      "Mam hodnotu -> e\n",
      "Pokracuji s interpretaci naseho zapisu ^.^\n"
     ]
    }
   ],
   "source": [
    "for pismeno in pismena:\n",
    "    if pismeno == \"e\":\n",
    "        print(\"Mam hodnotu ->\", pismeno)\n",
    "        break\n",
    "    else:\n",
    "        print(\"Nemam 'e', ale\", pismeno)\n",
    "\n",
    "print(\"Pokracuji s interpretaci naseho zapisu ^.^\")"
   ]
  },
  {
   "cell_type": "markdown",
   "metadata": {},
   "source": [
    "<br>\n",
    "\n",
    "### Ohlášení continue\n",
    "\n",
    "---"
   ]
  },
  {
   "cell_type": "markdown",
   "metadata": {},
   "source": [
    "#### Obyčejný for loop"
   ]
  },
  {
   "cell_type": "code",
   "execution_count": 43,
   "metadata": {},
   "outputs": [
    {
     "name": "stdout",
     "output_type": "stream",
     "text": [
      "M\n",
      "a\n",
      "t\n",
      "o\n",
      "u\n",
      "s\n"
     ]
    }
   ],
   "source": [
    "for pismeno in \"Matous\":\n",
    "    print(pismeno)"
   ]
  },
  {
   "cell_type": "markdown",
   "metadata": {},
   "source": [
    "#### For loop a ohlášení continue"
   ]
  },
  {
   "cell_type": "code",
   "execution_count": 44,
   "metadata": {},
   "outputs": [
    {
     "name": "stdout",
     "output_type": "stream",
     "text": [
      "M\n",
      "a\n",
      "t\n",
      "o\n",
      "u\n",
      "s\n"
     ]
    }
   ],
   "source": [
    "for pismeno in \"Matous\":\n",
    "    print(pismeno)\n",
    "    continue"
   ]
  },
  {
   "cell_type": "markdown",
   "metadata": {},
   "source": [
    "#### For/else a ohlášení continue"
   ]
  },
  {
   "cell_type": "code",
   "execution_count": 45,
   "metadata": {},
   "outputs": [
    {
     "name": "stdout",
     "output_type": "stream",
     "text": [
      "M\n",
      "a\n",
      "t\n",
      "o\n",
      "u\n",
      "s\n",
      "-----------------------------\n",
      "Konec smycky!\n",
      "-----------------------------\n"
     ]
    }
   ],
   "source": [
    "for pismeno in \"Matous\":\n",
    "    print(pismeno)\n",
    "    continue\n",
    "\n",
    "else:\n",
    "    print(\"-\" * 29, \"Konec smycky!\", \"-\" * 29, sep=\"\\n\")"
   ]
  },
  {
   "cell_type": "markdown",
   "metadata": {},
   "source": [
    "#### For loop, podmínka a ohlášení continue"
   ]
  },
  {
   "cell_type": "code",
   "execution_count": 46,
   "metadata": {},
   "outputs": [],
   "source": [
    "pismena = [\"a\", \"b\", \"c\", \"d\", \"e\", \"f\", \"g\", \"h\"]"
   ]
  },
  {
   "cell_type": "code",
   "execution_count": 47,
   "metadata": {
    "scrolled": true
   },
   "outputs": [
    {
     "name": "stdout",
     "output_type": "stream",
     "text": [
      "Hodnota je dulezita: e\n",
      "Hodnota je dulezita: f\n",
      "Hodnota je dulezita: g\n",
      "Hodnota je dulezita: h\n"
     ]
    }
   ],
   "source": [
    "for pismeno in pismena:\n",
    "    if pismeno in {\"a\", \"b\", \"c\", \"d\"}:\n",
    "        continue\n",
    "\n",
    "    print(\"Hodnota je dulezita:\", pismeno)"
   ]
  },
  {
   "cell_type": "markdown",
   "metadata": {},
   "source": [
    "<br>\n",
    "\n",
    "### Ohlášení pass\n",
    "\n",
    "Doplňující ohlášení, které slouží jako `placeholder` pro zápis, který ještě není kompletní a současně nezpůsobí výjimku."
   ]
  },
  {
   "cell_type": "markdown",
   "metadata": {},
   "source": [
    "#### For loop, bez ohlášení pass"
   ]
  },
  {
   "cell_type": "code",
   "execution_count": 48,
   "metadata": {},
   "outputs": [
    {
     "ename": "SyntaxError",
     "evalue": "unexpected EOF while parsing (2571020138.py, line 2)",
     "output_type": "error",
     "traceback": [
      "\u001b[0;36m  Cell \u001b[0;32mIn[48], line 2\u001b[0;36m\u001b[0m\n\u001b[0;31m    # budu iterovat skrze promennou: str\u001b[0m\n\u001b[0m                                        ^\u001b[0m\n\u001b[0;31mSyntaxError\u001b[0m\u001b[0;31m:\u001b[0m unexpected EOF while parsing\n"
     ]
    }
   ],
   "source": [
    "for pismeno in \"Matous\":\n",
    "    # budu iterovat skrze promennou: str"
   ]
  },
  {
   "cell_type": "markdown",
   "metadata": {},
   "source": [
    "#### For loop, s ohlášením pass"
   ]
  },
  {
   "cell_type": "code",
   "execution_count": 49,
   "metadata": {},
   "outputs": [],
   "source": [
    "for pismeno in \"Matous\":\n",
    "    # budu iterovat skrze promennou: str\n",
    "    pass"
   ]
  },
  {
   "cell_type": "markdown",
   "metadata": {},
   "source": [
    "#### For loop, doplněná budoucí ohlášení"
   ]
  },
  {
   "cell_type": "code",
   "execution_count": 50,
   "metadata": {},
   "outputs": [
    {
     "name": "stdout",
     "output_type": "stream",
     "text": [
      "M\n",
      "a\n",
      "t\n",
      "o\n",
      "u\n",
      "s\n"
     ]
    }
   ],
   "source": [
    "for pismeno in \"Matous\":\n",
    "    print(pismeno)\n",
    "#     pass"
   ]
  },
  {
   "cell_type": "markdown",
   "metadata": {},
   "source": [
    "<br>\n",
    "\n",
    "### 🧠 CVIČENÍ 🧠, Vyzkoušej si práci s nestovanou smyčkou:"
   ]
  },
  {
   "cell_type": "markdown",
   "metadata": {},
   "source": [
    "1. Procházej hodnoty pro zadaný dvoudimenzionální `list` se jménem `obsah`,\n",
    "2. .. nejprve procházej **samotné řádky**,\n",
    "3. .. následně procházej **buňku po buňce**."
   ]
  },
  {
   "cell_type": "code",
   "execution_count": 57,
   "metadata": {},
   "outputs": [
    {
     "name": "stdout",
     "output_type": "stream",
     "text": [
      "['jmeno;prijmeni;email;projekt']\n",
      "jmeno\n",
      "j\n",
      "m\n",
      "e\n",
      "n\n",
      "o\n"
     ]
    }
   ],
   "source": [
    "obsah = [\n",
    "    ['jmeno;prijmeni;email;projekt'],\n",
    "    ['Matous;Holinka;m.holinka@firma.cz;hr'],\n",
    "    ['Petr;Svetr;p.svetr@firma.cz;devops']\n",
    "]\n",
    "\n",
    "for radek in obsah:\n",
    "    print(radek)\n",
    "    \n",
    "    for bunka in radek[0].split(\";\"):\n",
    "        print(bunka)"
   ]
  },
  {
   "cell_type": "markdown",
   "metadata": {},
   "source": [
    "<details>\n",
    "  <summary>▶️  Klikni zde pro zobrazení řešení</summary>\n",
    "   \n",
    "```python\n",
    "obsah = [\n",
    "    ['jmeno;prijmeni;email;projekt'],\n",
    "    ['Matous;Holinka;m.holinka@firma.cz;hr'],\n",
    "    ['Petr;Svetr;p.svetr@firma.cz;devops']\n",
    "]\n",
    "\n",
    "for radek in obsah:\n",
    "    print(radek)\n",
    "\n",
    "    for bunka in radek[0].split(\";\"):\n",
    "        print(bunka)\n",
    "```\n",
    "</details>"
   ]
  },
  {
   "cell_type": "markdown",
   "metadata": {},
   "source": [
    "<br>\n",
    "\n",
    "<img src=\"https://external-content.duckduckgo.com/iu/?u=https%3A%2F%2Ftse2.mm.bing.net%2Fth%3Fid%3DOIP.Oir5eME7J-RWJpxHkJjr-QHaGe%26pid%3DApi&f=1\" width=\"200\" style=\"margin-left:auto; margin-right:auto\" />\n",
    "\n",
    "\n",
    "\n",
    "## While loop\n",
    "---\n",
    "\n",
    "Někdy ale není nutné *iterovat* přes **celý objekt**, jak tomu bylo u smyčky `for`.\n",
    "\n",
    "Naopak, budeš potřebovat provádět proces *iterování* tak dlouho, *dokud* to bude nutné.\n",
    "\n",
    "Za takovým účelem můžeš využít druhý typ smyček, `while`.\n",
    "\n",
    "### Obecně while loop\n",
    "\n",
    "---"
   ]
  },
  {
   "cell_type": "code",
   "execution_count": 58,
   "metadata": {},
   "outputs": [
    {
     "name": "stdout",
     "output_type": "stream",
     "text": [
      "0, 0 < 10 pokracujeme!\n",
      "1, 1 < 10 pokracujeme!\n",
      "2, 2 < 10 pokracujeme!\n",
      "3, 3 < 10 pokracujeme!\n",
      "4, 4 < 10 pokracujeme!\n",
      "5, 5 < 10 pokracujeme!\n",
      "6, 6 < 10 pokracujeme!\n",
      "7, 7 < 10 pokracujeme!\n",
      "8, 8 < 10 pokracujeme!\n",
      "9, 9 < 10 pokracujeme!\n",
      "\n",
      "10, 10 < 10 -> False\n",
      "Pokracuje zapis pod smyckou..\n"
     ]
    }
   ],
   "source": [
    "index = 0\n",
    "\n",
    "while index < 10: # 10 < 10 --> False\n",
    "    print(index, \", \", index, \" < 10\", \" pokracujeme!\", sep=\"\")\n",
    "    index = index + 1  # index = 10\n",
    "\n",
    "print(\"\\n\", index, \", \", index,  \" < 10 -> False\", sep=\"\")\n",
    "print(\"Pokracuje zapis pod smyckou..\")"
   ]
  },
  {
   "cell_type": "markdown",
   "metadata": {},
   "source": [
    "1. `while` je **klíčkový výraz** v záhlaví (zápisu) cyklu,\n",
    "2. `index < 10` je **podmínka**. Pokud je vyhodnocená jako `True`, proveď odsazené ohlášení,\n",
    "3. `index < 10` pokud `False`, pokračuj **s neodsazeným zápisem** pod smyčkou,\n",
    "4. `:` řádek s předpisem musí být **zakončený dvojtečkou**,\n",
    "5. `print(...)`, následují **odsazené ohlášení**, které se budou opakovat v každém kroku,\n",
    "6. `print(index, \", \" ... ` pokračuje neodsazený zápis, pod smyčkou."
   ]
  },
  {
   "cell_type": "markdown",
   "metadata": {},
   "source": [
    "<br>\n",
    "\n",
    "### 🧠 CVIČENÍ 🧠, Vyzkoušej si práci s `while` smyčkou:"
   ]
  },
  {
   "cell_type": "markdown",
   "metadata": {},
   "source": [
    "1. Vytvoř prázdný nakupní košík `kosik` typu `dict`,\n",
    "2. definuj smyčku WHILE, která bude *iterovat*, dokud **nemá `kosik` 4 klíče**,\n",
    "3. nejprve vlož zboží do `produkt`,\n",
    "4. potom vlož cenu do `cena`,\n",
    "5. vypiš oddělovač `\"---\"`,\n",
    "6. zapiš pár **produkt a cena** do `kosik`,\n",
    "7. jakmile podmínka v předpisu nebude pravdivá, vypiš obsah proměnné `kosik`."
   ]
  },
  {
   "cell_type": "code",
   "execution_count": 67,
   "metadata": {},
   "outputs": [
    {
     "name": "stdin",
     "output_type": "stream",
     "text": [
      "Zadej typ zboží: mleko\n",
      "Zadej cenu pro mleko: 99\n"
     ]
    },
    {
     "name": "stdout",
     "output_type": "stream",
     "text": [
      "---\n"
     ]
    },
    {
     "name": "stdin",
     "output_type": "stream",
     "text": [
      "Zadej typ zboží: pomerance\n",
      "Zadej cenu pro pomerance: 999\n"
     ]
    },
    {
     "name": "stdout",
     "output_type": "stream",
     "text": [
      "---\n",
      "{'mleko': '99', 'pomerance': '999'}\n"
     ]
    }
   ],
   "source": [
    "kosik = dict()\n",
    "\n",
    "while len(kosik) < 2:\n",
    "    produkt = input(\"Zadej typ zboží:\")              # \"mleko\"\n",
    "    cena = input(\"Zadej cenu pro \" + produkt + \":\")  # 30,-\n",
    "    print(\"---\")\n",
    "    kosik.update({produkt: cena})                    # kosik[produkt] = cena \n",
    "\n",
    "print(kosik)"
   ]
  },
  {
   "cell_type": "markdown",
   "metadata": {},
   "source": [
    "<details>\n",
    "  <summary>▶️  Klikni zde pro zobrazení řešení</summary>\n",
    "   \n",
    "```python\n",
    "kosik = {}\n",
    "\n",
    "while len(kosik) < 4:\n",
    "    produkt = input(\"Jaký produkt chceš vložit do košíku?\")\n",
    "    cena = input(\"Jaká je cena pro \" + produkt + \"?\")\n",
    "    print(\"---\")\n",
    "    kosik.update({produkt: cena})\n",
    "\n",
    "print(kosik)\n",
    "```\n",
    "</details>"
   ]
  },
  {
   "cell_type": "markdown",
   "metadata": {},
   "source": [
    "<br>\n",
    "\n",
    "### While s doplňující podmínkou\n",
    "\n",
    "Cyklus `while` samotný podmínku obsahuje. Určitě je ale možnost, tento podmínkový strom ještě rozšířit."
   ]
  },
  {
   "cell_type": "code",
   "execution_count": 72,
   "metadata": {},
   "outputs": [
    {
     "name": "stdout",
     "output_type": "stream",
     "text": [
      "10\n",
      "11\n",
      "12\n",
      "13\n",
      "14\n",
      "15\n",
      "16\n",
      "17\n",
      "18\n",
      "19\n"
     ]
    }
   ],
   "source": [
    "index = 0\n",
    "\n",
    "while index < 20:\n",
    "    if len(str(index)) != 2:  # pokud není číselná hodnota ze dvou znaků\n",
    "        index = index + 1\n",
    "        continue\n",
    "\n",
    "    print(index)\n",
    "    index = index + 1"
   ]
  },
  {
   "cell_type": "markdown",
   "metadata": {},
   "source": [
    "Takové rozšíření může být obzvlášť přínosné, pokud podmínka v předpise nejde formulovat:"
   ]
  },
  {
   "cell_type": "code",
   "execution_count": 70,
   "metadata": {},
   "outputs": [
    {
     "name": "stdout",
     "output_type": "stream",
     "text": [
      "0\n",
      "1\n",
      "2\n",
      "3\n",
      "4\n",
      "5\n",
      "6\n",
      "7\n",
      "8\n",
      "9\n"
     ]
    }
   ],
   "source": [
    "index = 0\n",
    "\n",
    "while index < 20 and len(str(index)) != 2:  # kombinace podmínek tady není použitelná\n",
    "    print(index)\n",
    "    index = index + 1"
   ]
  },
  {
   "cell_type": "markdown",
   "metadata": {},
   "source": [
    "<br>\n",
    "\n",
    "### While/else\n",
    "\n",
    "Cyklus `while` lze rozšířit o podmínkovou větev `else`.\n",
    "\n",
    "K ní se *interpret* dostane, pokud je podmínka v předpisu vyhodnocená jako `False` a současně nedojde k ohlášení `break`."
   ]
  },
  {
   "cell_type": "code",
   "execution_count": 73,
   "metadata": {},
   "outputs": [
    {
     "name": "stdout",
     "output_type": "stream",
     "text": [
      "10\n",
      "11\n",
      "12\n",
      "13\n",
      "14\n",
      "15\n",
      "16\n",
      "17\n",
      "18\n",
      "19\n",
      "-----------------------\n",
      "   Podminka -> False   \n",
      "-----------------------\n",
      ">Pokracuji pod smyckou<\n"
     ]
    }
   ],
   "source": [
    "index = 0\n",
    "\n",
    "while index < 20:\n",
    "    if len(str(index)) != 2:  # pokud není číselná hodnota ze dvou znaků\n",
    "        index = index + 1\n",
    "        continue\n",
    "\n",
    "    print(index)\n",
    "    index = index + 1\n",
    "\n",
    "else:\n",
    "    print(\"-\" * 23, \"Podminka -> False\".center(23), \"-\" * 23, sep=\"\\n\")\n",
    "\n",
    "print(\">Pokracuji pod smyckou<\")"
   ]
  },
  {
   "cell_type": "code",
   "execution_count": 74,
   "metadata": {},
   "outputs": [
    {
     "name": "stdout",
     "output_type": "stream",
     "text": [
      ">Pokracuji pod smyckou<\n"
     ]
    }
   ],
   "source": [
    "index = 0\n",
    "\n",
    "while index < 20:\n",
    "    if len(str(index)) != 2:  # pokud není číselná hodnota ze dvou znaků\n",
    "        index = index + 1\n",
    "        break\n",
    "\n",
    "    print(index)\n",
    "    index = index + 1\n",
    "    \n",
    "else:\n",
    "    print(\"-\" * 23, \"Podminka -> False\".center(23), \"-\" * 23, sep=\"\\n\")\n",
    "\n",
    "print(\">Pokracuji pod smyckou<\")"
   ]
  },
  {
   "cell_type": "markdown",
   "metadata": {},
   "source": [
    "<br>\n",
    "\n",
    "### Nekonečný while loop\n",
    "\n",
    "---\n",
    "\n",
    "Jednou z aplikací smyčky `while` je zápis tzv. *nekonečného cyklu*.\n",
    "\n",
    "Obecně můžeme říct, že v případě **nekonečných smyček** mluvíme o dvou typech:\n",
    "1. **Neřízené** nekonečné smyčky,\n",
    "2. **řízené** nekonečné smyčky.\n",
    "\n",
    "<br>\n",
    "\n",
    "#### Neřízené nekonečné smyčky\n",
    "\n",
    "---\n",
    "\n",
    "Ty mohou nastat v důsledku špatného zápisu `while` cyklu.\n",
    "```python\n",
    "index = 1\n",
    "\n",
    "while index < 20:\n",
    "    print(index)\n",
    "```\n",
    "\n",
    "*poznámka*. výše ukázaná varianta představuje tzv. *nežádoucí nekonečnou smyčku*, kde vznikla chyba **v odsazené části zápisu**.\n",
    "```python\n",
    "index = 1\n",
    "\n",
    "while index > 0:\n",
    "    print(index)\n",
    "    index = index + 1\n",
    "```\n",
    "*poznámka*. výše ukázaná varianta představuje tzv. *nežádoucí nekonečnou smyčku*, kde vznikla chyba **ve špatně zapsané podmínce**.\n",
    "\n",
    "<br>\n",
    "\n",
    "#### Řízené nekonečné smyčky\n",
    "\n",
    "---\n",
    "\n",
    "Nekonečný cyklus s `while` je ale možné formulovat jako *řádnou/žádoucí nekonečnou smyčku*:"
   ]
  },
  {
   "cell_type": "code",
   "execution_count": 76,
   "metadata": {},
   "outputs": [
    {
     "name": "stdin",
     "output_type": "stream",
     "text": [
      "ZADEJ PISMENO: a\n"
     ]
    },
    {
     "name": "stdout",
     "output_type": "stream",
     "text": [
      "UDAJ:  a  JE SKUTECNE PISMENO\n"
     ]
    },
    {
     "name": "stdin",
     "output_type": "stream",
     "text": [
      "ZADEJ PISMENO: b\n"
     ]
    },
    {
     "name": "stdout",
     "output_type": "stream",
     "text": [
      "UDAJ:  b  JE SKUTECNE PISMENO\n"
     ]
    },
    {
     "name": "stdin",
     "output_type": "stream",
     "text": [
      "ZADEJ PISMENO: c\n"
     ]
    },
    {
     "name": "stdout",
     "output_type": "stream",
     "text": [
      "UDAJ:  c  JE SKUTECNE PISMENO\n"
     ]
    },
    {
     "name": "stdin",
     "output_type": "stream",
     "text": [
      "ZADEJ PISMENO: #\n"
     ]
    },
    {
     "name": "stdout",
     "output_type": "stream",
     "text": [
      "UDAJ:  #  NENI PISMENO!\n"
     ]
    }
   ],
   "source": [
    "prepinac = True\n",
    "\n",
    "while prepinac:\n",
    "    vstupni_hodnota = input(\"zadej pismeno:\".upper())\n",
    "    \n",
    "    if vstupni_hodnota.isalpha():\n",
    "        print(\"UDAJ: \", vstupni_hodnota, \" JE SKUTECNE PISMENO\")\n",
    "    else:\n",
    "        print(\"UDAJ: \", vstupni_hodnota, \" NENI PISMENO!\")\n",
    "        prepinac = False"
   ]
  },
  {
   "cell_type": "markdown",
   "metadata": {},
   "source": [
    "<br>\n",
    "\n",
    "## Souhrn FOR vs. WHILE\n",
    "\n",
    "---"
   ]
  },
  {
   "cell_type": "code",
   "execution_count": null,
   "metadata": {},
   "outputs": [],
   "source": []
  },
  {
   "cell_type": "markdown",
   "metadata": {},
   "source": [
    "<br>\n",
    "\n",
    "\n",
    "<img src=\"https://external-content.duckduckgo.com/iu/?u=https%3A%2F%2Ftse3.mm.bing.net%2Fth%3Fid%3DOIP.fNwmtWM7vEaO1gxjCKwMOwHaHa%26pid%3DApi&f=1\" width=\"300\" style=\"margin-left:auto; margin-right:auto\" />\n",
    "\n",
    "## Datový typ RANGE\n",
    "\n",
    "---\n",
    "\n",
    "\n",
    "Jde o *built-in* funkci, která nám vytvoří datový typ `range`. Tento typ v podstatě odpovídá tomu, co si představíme pod slovem **interval** nebo **rozsah**:"
   ]
  },
  {
   "cell_type": "code",
   "execution_count": 77,
   "metadata": {},
   "outputs": [
    {
     "name": "stdout",
     "output_type": "stream",
     "text": [
      "range(0, 11)\n"
     ]
    }
   ],
   "source": [
    "print(range(11))"
   ]
  },
  {
   "cell_type": "code",
   "execution_count": 78,
   "metadata": {},
   "outputs": [
    {
     "name": "stdout",
     "output_type": "stream",
     "text": [
      "<class 'range'>\n"
     ]
    }
   ],
   "source": [
    "print(type(range(11)))"
   ]
  },
  {
   "cell_type": "code",
   "execution_count": 79,
   "metadata": {},
   "outputs": [
    {
     "name": "stdout",
     "output_type": "stream",
     "text": [
      "0\n",
      "1\n",
      "2\n",
      "3\n",
      "4\n",
      "5\n",
      "6\n",
      "7\n",
      "8\n",
      "9\n",
      "10\n"
     ]
    }
   ],
   "source": [
    "for cislo in range(0, 11):\n",
    "    print(cislo)"
   ]
  },
  {
   "cell_type": "markdown",
   "metadata": {},
   "source": [
    "### Vytvoření RANGE\n",
    "\n",
    "---\n",
    "\n",
    "| Počet argumentů |\tVýznam |\n",
    "|:-:|:-|\n",
    "| **1** | \tHodnota stop. Začíná defaultně od 0 (končí o jednu hodnotu dříve než stop)\n",
    "| **2** | \tHodnoty start a stop |\n",
    "| **3** | \tHodnoty start, stop a step (tedy krok) |"
   ]
  },
  {
   "cell_type": "code",
   "execution_count": 80,
   "metadata": {},
   "outputs": [
    {
     "name": "stdout",
     "output_type": "stream",
     "text": [
      "range(0, 11)\n"
     ]
    }
   ],
   "source": [
    "print(range(11))"
   ]
  },
  {
   "cell_type": "code",
   "execution_count": 81,
   "metadata": {},
   "outputs": [
    {
     "name": "stdout",
     "output_type": "stream",
     "text": [
      "(0, 1, 2, 3, 4, 5, 6, 7, 8, 9, 10)\n"
     ]
    }
   ],
   "source": [
    "print(tuple(range(11)))"
   ]
  },
  {
   "cell_type": "code",
   "execution_count": 82,
   "metadata": {},
   "outputs": [
    {
     "name": "stdout",
     "output_type": "stream",
     "text": [
      "(1, 2, 3, 4, 5, 6, 7, 8, 9, 10)\n"
     ]
    }
   ],
   "source": [
    "print(tuple(range(1, 11)))"
   ]
  },
  {
   "cell_type": "code",
   "execution_count": 83,
   "metadata": {},
   "outputs": [
    {
     "name": "stdout",
     "output_type": "stream",
     "text": [
      "(1, 4, 7, 10)\n"
     ]
    }
   ],
   "source": [
    "print(tuple(range(1, 11, 3)))"
   ]
  },
  {
   "cell_type": "code",
   "execution_count": 84,
   "metadata": {},
   "outputs": [
    {
     "name": "stdout",
     "output_type": "stream",
     "text": [
      "(10, 9, 8, 7, 6, 5, 4, 3, 2, 1)\n"
     ]
    }
   ],
   "source": [
    "print(tuple(range(10, 0, -1)))"
   ]
  },
  {
   "cell_type": "code",
   "execution_count": 85,
   "metadata": {},
   "outputs": [
    {
     "ename": "TypeError",
     "evalue": "'float' object cannot be interpreted as an integer",
     "output_type": "error",
     "traceback": [
      "\u001b[0;31m---------------------------------------------------------------------------\u001b[0m",
      "\u001b[0;31mTypeError\u001b[0m                                 Traceback (most recent call last)",
      "Cell \u001b[0;32mIn[85], line 1\u001b[0m\n\u001b[0;32m----> 1\u001b[0m \u001b[38;5;28mprint\u001b[39m(\u001b[38;5;28mtuple\u001b[39m(\u001b[38;5;28;43mrange\u001b[39;49m\u001b[43m(\u001b[49m\u001b[38;5;241;43m10.0\u001b[39;49m\u001b[43m,\u001b[49m\u001b[43m \u001b[49m\u001b[38;5;241;43m0\u001b[39;49m\u001b[43m,\u001b[49m\u001b[43m \u001b[49m\u001b[38;5;241;43m-\u001b[39;49m\u001b[38;5;241;43m1\u001b[39;49m\u001b[43m)\u001b[49m))\n",
      "\u001b[0;31mTypeError\u001b[0m: 'float' object cannot be interpreted as an integer"
     ]
    }
   ],
   "source": [
    "print(tuple(range(10.0, 0, -1)))"
   ]
  },
  {
   "cell_type": "markdown",
   "metadata": {},
   "source": [
    "*poznámka*. datový typ `range` pracuje pouze **s celými čísly**."
   ]
  },
  {
   "cell_type": "code",
   "execution_count": 86,
   "metadata": {},
   "outputs": [
    {
     "name": "stdout",
     "output_type": "stream",
     "text": [
      "www.oukro.cz/aukce&page=1\n",
      "www.oukro.cz/aukce&page=2\n",
      "www.oukro.cz/aukce&page=3\n",
      "www.oukro.cz/aukce&page=4\n",
      "www.oukro.cz/aukce&page=5\n",
      "www.oukro.cz/aukce&page=6\n",
      "www.oukro.cz/aukce&page=7\n",
      "www.oukro.cz/aukce&page=8\n",
      "www.oukro.cz/aukce&page=9\n",
      "www.oukro.cz/aukce&page=10\n"
     ]
    }
   ],
   "source": [
    "url = \"www.oukro.cz/aukce&page=1\"  # .. 22\n",
    "\n",
    "for cislo in range(1, 11):\n",
    "    print(f\"www.oukro.cz/aukce&page={cislo}\")"
   ]
  },
  {
   "cell_type": "code",
   "execution_count": 87,
   "metadata": {},
   "outputs": [
    {
     "name": "stdout",
     "output_type": "stream",
     "text": [
      "Kontroluji obsah souboru..\n",
      "Kontroluji obsah souboru..\n",
      "Kontroluji obsah souboru..\n",
      "Kontroluji obsah souboru..\n",
      "Kontroluji obsah souboru..\n",
      "Kontroluji obsah souboru..\n"
     ]
    }
   ],
   "source": [
    "import time\n",
    "\n",
    "for _ in range(6):\n",
    "    print(f\"Kontroluji obsah souboru..\")\n",
    "\n",
    "    time.sleep(1)"
   ]
  },
  {
   "cell_type": "markdown",
   "metadata": {},
   "source": [
    "<br>\n",
    "\n",
    "<img src=\"https://external-content.duckduckgo.com/iu/?u=https%3A%2F%2Ftse1.mm.bing.net%2Fth%3Fid%3DOIP.xszhziZWTRmKLG00uoNozAHaHM%26pid%3DApi&f=1\" width=\"200\" style=\"margin-left:auto; margin-right:auto\" />\n",
    "\n",
    "\n",
    "## Enumerate\n",
    "\n",
    "---\n",
    "\n",
    "Jde opět o  **built-in funkci** a současně datový typ, která nám **vytvoří číslování** pro zadaný *iterovatelný* objekt."
   ]
  },
  {
   "cell_type": "code",
   "execution_count": 88,
   "metadata": {},
   "outputs": [
    {
     "name": "stdout",
     "output_type": "stream",
     "text": [
      "<enumerate object at 0x7f9e28263ac0>\n"
     ]
    }
   ],
   "source": [
    "print(enumerate([\"Python\", \"Java\", \"JavaScript\", \"C\", \"Rust\"]))"
   ]
  },
  {
   "cell_type": "code",
   "execution_count": 89,
   "metadata": {},
   "outputs": [
    {
     "name": "stdout",
     "output_type": "stream",
     "text": [
      "((0, 'Python'), (1, 'Java'), (2, 'JavaScript'), (3, 'C'), (4, 'Rust'))\n"
     ]
    }
   ],
   "source": [
    "print(tuple(enumerate([\"Python\", \"Java\", \"JavaScript\", \"C\", \"Rust\"])))"
   ]
  },
  {
   "cell_type": "code",
   "execution_count": 90,
   "metadata": {},
   "outputs": [
    {
     "name": "stdout",
     "output_type": "stream",
     "text": [
      "<class 'enumerate'>\n"
     ]
    }
   ],
   "source": [
    "print(type(enumerate([\"Python\", \"Java\", \"JavaScript\", \"C\", \"Rust\"])))"
   ]
  },
  {
   "cell_type": "markdown",
   "metadata": {},
   "source": [
    "### For loop s enumerate\n",
    "\n",
    "---"
   ]
  },
  {
   "cell_type": "code",
   "execution_count": 92,
   "metadata": {},
   "outputs": [
    {
     "name": "stdout",
     "output_type": "stream",
     "text": [
      "Python\n",
      "Java\n",
      "JavaScript\n",
      "C\n",
      "Rust\n"
     ]
    }
   ],
   "source": [
    "for jazyk in [\"Python\", \"Java\", \"JavaScript\", \"C\", \"Rust\"]:\n",
    "    print(jazyk)"
   ]
  },
  {
   "cell_type": "code",
   "execution_count": 91,
   "metadata": {},
   "outputs": [
    {
     "name": "stdout",
     "output_type": "stream",
     "text": [
      "(0, 'Python')\n",
      "(1, 'Java')\n",
      "(2, 'JavaScript')\n",
      "(3, 'C')\n",
      "(4, 'Rust')\n"
     ]
    }
   ],
   "source": [
    "for jazyk in enumerate([\"Python\", \"Java\", \"JavaScript\", \"C\", \"Rust\"]):\n",
    "    print(jazyk)"
   ]
  },
  {
   "cell_type": "code",
   "execution_count": 93,
   "metadata": {},
   "outputs": [
    {
     "name": "stdout",
     "output_type": "stream",
     "text": [
      "JavaScript\n",
      "C\n",
      "Rust\n"
     ]
    }
   ],
   "source": [
    "for cislo, jazyk in enumerate([\"Python\", \"Java\", \"JavaScript\", \"C\", \"Rust\"]):\n",
    "    if cislo >= 2:\n",
    "        print(jazyk)"
   ]
  },
  {
   "cell_type": "code",
   "execution_count": 94,
   "metadata": {},
   "outputs": [
    {
     "name": "stdout",
     "output_type": "stream",
     "text": [
      "JavaScript\n",
      "C\n",
      "Rust\n"
     ]
    }
   ],
   "source": [
    "index = 0\n",
    "\n",
    "for jazyk in [\"Python\", \"Java\", \"JavaScript\", \"C\", \"Rust\"]:\n",
    "    if index >= 2:\n",
    "        print(jazyk)\n",
    "    index = index + 1"
   ]
  },
  {
   "cell_type": "markdown",
   "metadata": {},
   "source": [
    "<br>\n",
    "\n",
    "\n",
    "<img src=\"https://external-content.duckduckgo.com/iu/?u=https%3A%2F%2Ftse1.mm.bing.net%2Fth%3Fid%3DOIP.QTQy3KN6A9Ih7btyIsF-_gHaGq%26pid%3DApi&f=1\" width=\"200\" style=\"margin-left:auto; margin-right:auto\" />\n",
    "\n",
    "## Zip\n",
    "\n",
    "---"
   ]
  },
  {
   "cell_type": "markdown",
   "metadata": {},
   "source": [
    "Tato funkce ti umožní *iterovat* skrze několik *iterovatelných objektů* **současně**:"
   ]
  },
  {
   "cell_type": "code",
   "execution_count": 95,
   "metadata": {},
   "outputs": [],
   "source": [
    "jmena    = (\"Petr\", \"Marek\", \"David\")\n",
    "prijmeni = (\"Svetr\", \"Pavel\", \"Dvořák\")"
   ]
  },
  {
   "cell_type": "markdown",
   "metadata": {},
   "source": [
    "<br>\n",
    "\n",
    "Funkce *zip* vrací *tuple*, který obsahuje hodnoty **o stejném indexu** z obou (nebo více) objektů."
   ]
  },
  {
   "cell_type": "code",
   "execution_count": 96,
   "metadata": {},
   "outputs": [
    {
     "name": "stdout",
     "output_type": "stream",
     "text": [
      "<zip object at 0x7f9e281cb300>\n"
     ]
    }
   ],
   "source": [
    "print(zip(jmena, prijmeni))        # lazy evaluation"
   ]
  },
  {
   "cell_type": "code",
   "execution_count": 97,
   "metadata": {},
   "outputs": [
    {
     "name": "stdout",
     "output_type": "stream",
     "text": [
      "[('Petr', 'Svetr'), ('Marek', 'Pavel'), ('David', 'Dvořák')]\n"
     ]
    }
   ],
   "source": [
    "print(list(zip(jmena, prijmeni)))"
   ]
  },
  {
   "cell_type": "code",
   "execution_count": 98,
   "metadata": {},
   "outputs": [
    {
     "name": "stdout",
     "output_type": "stream",
     "text": [
      "Petr SVETR\n",
      "Marek PAVEL\n",
      "David DVOŘÁK\n"
     ]
    }
   ],
   "source": [
    "for jmeno, prijmeni in zip(jmena, prijmeni):\n",
    "    print(jmeno, prijmeni.upper())"
   ]
  },
  {
   "cell_type": "markdown",
   "metadata": {},
   "source": [
    "<br>\n",
    "\n",
    "Pokud se hodnoty z jednoho z *iterovatelných* objektů vyčerpají, **přeskočí** zbytek hodnot:"
   ]
  },
  {
   "cell_type": "code",
   "execution_count": 101,
   "metadata": {},
   "outputs": [
    {
     "name": "stdout",
     "output_type": "stream",
     "text": [
      "Petr Svetr 22\n",
      "Marek Pavel 32\n"
     ]
    }
   ],
   "source": [
    "for jmeno, prijmeni, vek in zip((\"Petr\", \"Marek\"), (\"Svetr\", \"Pavel\", \"Dvořák\"), (22, 32, 42)):  # 2 jména, 3 příjmení\n",
    "    print(jmeno, prijmeni, vek)"
   ]
  },
  {
   "cell_type": "code",
   "execution_count": null,
   "metadata": {},
   "outputs": [],
   "source": []
  },
  {
   "cell_type": "code",
   "execution_count": 106,
   "metadata": {},
   "outputs": [
    {
     "name": "stdin",
     "output_type": "stream",
     "text": [
      "cislo: 111\n"
     ]
    },
    {
     "name": "stdout",
     "output_type": "stream",
     "text": [
      "111\n"
     ]
    }
   ],
   "source": [
    "cislo = 1\n",
    "\n",
    "# type(int(cislo))\n",
    "while cislo in range(0, 11):  # wh\n",
    "    print(cislo)"
   ]
  },
  {
   "cell_type": "markdown",
   "metadata": {},
   "source": [
    "<br>\n",
    "\n",
    "<img src=\"https://external-content.duckduckgo.com/iu/?u=https%3A%2F%2Ftse2.mm.bing.net%2Fth%3Fid%3DOIP.ZtuU0gV1oC0QdH6B74_D9QHaHa%26pid%3DApi&f=1\" width=\"200\" style=\"margin-left:auto; margin-right:auto\" />\n",
    "\n",
    "\n",
    "\n",
    "## Walrus\n",
    "\n",
    "---\n",
    "\n",
    "Přiřazovací operátor je formulace, která je v Pythonu poměrně nová (3.8+).\n",
    "\n"
   ]
  },
  {
   "cell_type": "markdown",
   "metadata": {},
   "source": [
    "### Vytvoření hodnoty a uložení\n",
    "\n",
    "---"
   ]
  },
  {
   "cell_type": "code",
   "execution_count": null,
   "metadata": {},
   "outputs": [],
   "source": [
    "jmeno = \"Matous\"\n",
    "print(jmeno)"
   ]
  },
  {
   "cell_type": "code",
   "execution_count": null,
   "metadata": {},
   "outputs": [],
   "source": [
    "print(jmeno := \"Matous\")"
   ]
  },
  {
   "cell_type": "markdown",
   "metadata": {},
   "source": [
    "<br>\n",
    "\n",
    "### Kombinace s podmínkou\n",
    "\n",
    "---"
   ]
  },
  {
   "cell_type": "code",
   "execution_count": null,
   "metadata": {},
   "outputs": [],
   "source": [
    "jmeno = input(\"JMENO: \")\n",
    "\n",
    "if jmeno == \"Matous\":\n",
    "    print(\"POZDRAV: Ahoj, \", jmeno, \"i!\", sep=\"\")\n",
    "else:\n",
    "    print(\"POZDRAV: Ahoj, vsem!\")"
   ]
  },
  {
   "cell_type": "code",
   "execution_count": null,
   "metadata": {},
   "outputs": [],
   "source": [
    "if (jmeno := input(\"JMENO: \")) == \"Matous\":\n",
    "    print(\"POZDRAV: Ahoj, \", jmeno, \"i!\", sep=\"\")\n",
    "else:\n",
    "    print(\"POZDRAV: Ahoj, vsem!\")"
   ]
  },
  {
   "cell_type": "markdown",
   "metadata": {},
   "source": [
    "<br>\n",
    "\n",
    "### Kombinace s cyklem while\n",
    "\n",
    "---"
   ]
  },
  {
   "cell_type": "code",
   "execution_count": null,
   "metadata": {},
   "outputs": [],
   "source": [
    "while (vstup := input(\"-> \")) != \"quit\":\n",
    "    print(\"Zadany vstup: \", vstup)\n",
    "else:\n",
    "    print(\"Konec smycky\")"
   ]
  },
  {
   "cell_type": "code",
   "execution_count": null,
   "metadata": {},
   "outputs": [],
   "source": [
    "vstup = \"\"\n",
    "\n",
    "while vstup != \"quit\":\n",
    "    vstup = input(\"-> \")\n",
    "    print(\"Zadany vstup: \", vstup)\n",
    "\n",
    "else:\n",
    "    print(\"Konec smycky\")"
   ]
  },
  {
   "cell_type": "markdown",
   "metadata": {},
   "source": [
    "<br>\n",
    "\n",
    "<img src=\"https://external-content.duckduckgo.com/iu/?u=https%3A%2F%2Ftse1.mm.bing.net%2Fth%3Fid%3DOIP.O9EkosTHP3lmEAvzA3D-2QHaHa%26pid%3DApi&f=1\" width=\"200\" style=\"margin-left:auto; margin-right:auto\" />\n",
    "\n",
    "\n",
    "\n",
    "## Domácí úkol\n",
    "\n",
    "---"
   ]
  },
  {
   "cell_type": "markdown",
   "metadata": {},
   "source": [
    "<br>\n",
    "\n",
    "### 🧠 CVIČENÍ 🧠, Vyzkoušej si práci s `for` smyčkou:\n",
    "\n",
    "Z výše zadaných jmen vytvoř slovník, kde budou klíče celá jména a hodnoty budou nestované slovníky, obsahující klíče křestní jméno, příjmení a email. Viz. ukázka:"
   ]
  },
  {
   "cell_type": "code",
   "execution_count": null,
   "metadata": {},
   "outputs": [],
   "source": [
    "zamestnanci_raw = \"\"\"\n",
    "Helena Vybíralová\n",
    "Wendy Štrumlová\n",
    "Marie Vybíralová\n",
    "Stanislav Bechyňka\n",
    "Zdeňka Urbánková\n",
    "Lukáš Riečan\n",
    "Veronika Koudelová\n",
    "Františka Vorlová\n",
    "Ilie Seleš\n",
    "Martin Železný\n",
    "Petra Niklesová\n",
    "Bohumil Skok\n",
    "Jakub Šmíd\n",
    "Jarmila Procházková\n",
    "Dagmar Hlavatá\n",
    "Jiří Nguyen Thanh\n",
    "Marie Franková\n",
    "Dana Ulrichová\n",
    "Jana Hranická\n",
    "Hana Budošová\n",
    "Ivan Široký\n",
    "Květoslava Jiráčková\n",
    "Pavel Przywara\n",
    "Josef Umlauf\n",
    "Tomáš Granzer\n",
    "Miroslav Kuba\n",
    "Miloslava Adámková\n",
    "Marie Karlíková\n",
    "Jaroslav Hronský\n",
    "Vlasta Karlíková\n",
    "Andrea Žatková\n",
    "Zuzana Lokočová\n",
    "Ondřej Ptáček\n",
    "Zdeněk Najman\n",
    "Tereza Šebešová\n",
    "Antonie Skokánková\n",
    "Jan Lion\n",
    "Václav Vecko\n",
    "František Vajgl\n",
    "Adéla Kavková\n",
    "Amália Vacková\n",
    "Anna Pažická\n",
    "Ivo Pustějovský\n",
    "Antonín Pavela\n",
    "Jitka Adamová\n",
    "Libuše Hamroziová\n",
    "Drahomíra Balzerová\n",
    "Marek Suchánek\n",
    "Petr Vavrinec\n",
    "Jonáš Stuchlý\n",
    "Jaromír Pecen\n",
    "Markéta Kyliánková\n",
    "Marina Pečenková\n",
    "Ivana Perdochová\n",
    "Michaela Drápalová\n",
    "Michael Mentlík\n",
    "Rudolf Špičák\n",
    "Žaneta Holá\n",
    "Blanka Lišková\n",
    "Eva Svatoňová\n",
    "Rostislav Hoang\n",
    "Martina Kalivodová\n",
    "Milan Hruška\n",
    "Zdenka Marková\n",
    "Lenka Schambergerová\n",
    "Růžena Martinů\n",
    "Věra Řezanková\n",
    "Marie Pečenková\n",
    "Miloš Váchal\n",
    "Jaroslava Hrubá\n",
    "Petr Pecen\n",
    "Pavla Konvicová\n",
    "Lucie Marešová\n",
    "Květuše Zdráhalová\n",
    "Vlastimila Svatošová\n",
    "Zora Michalčíková\n",
    "Daniel Švejnoha\n",
    "Klára Brunclíková\n",
    "Vladimír Bauer\n",
    "Michal Slaný\n",
    "Jiřina Novosadová\n",
    "Karel Sršeň\n",
    "Stanislava Lakosilová\n",
    "Filip Černý\n",
    "Alena Kubiková\n",
    "Sára Kotrlová\n",
    "Alois Rejlek\n",
    "Božena Novotná\n",
    "Maryana Nováková\n",
    "Kateřina Máslová\n",
    "Ladislav Dvořák\n",
    "Radek Varga\n",
    "Petr Dvořák\n",
    "Ludmila Jaklová\n",
    "Renáta Foubíková\n",
    "Nikola Lehká\n",
    "Dominika Riegerová\n",
    "Patrik Polák\n",
    "Soňa Štrbová\n",
    "David Matoušek\n",
    "Liubov Hollíková\n",
    "Monika Poláková\n",
    "Marie Jaklová\n",
    "Aleš Svoboda\n",
    "Roman Kolínský\n",
    "Karolína Košiková\n",
    "\"\"\""
   ]
  },
  {
   "cell_type": "markdown",
   "metadata": {},
   "source": [
    "```\n",
    "{'Adéla Kavková': {'email': 'a.kavková@firma.cz',\n",
    "                   'krestni_jmeno': 'Adéla',\n",
    "                   'prijmeni': 'Kavková'},\n",
    " 'Alena Kubiková': {'email': 'a.kubiková@firma.cz',\n",
    "                    'krestni_jmeno': 'Alena',\n",
    "                    'prijmeni': 'Kubiková'},\n",
    " 'Aleš Svoboda': {'email': 'a.svoboda@firma.cz',\n",
    "                  'krestni_jmeno': 'Aleš',\n",
    "                  'prijmeni': 'Svoboda'},\n",
    " ...\n",
    "}\n",
    "```"
   ]
  },
  {
   "cell_type": "code",
   "execution_count": null,
   "metadata": {},
   "outputs": [],
   "source": []
  },
  {
   "cell_type": "markdown",
   "metadata": {},
   "source": [
    "<details>\n",
    "  <summary>▶️  Klikni zde pro zobrazení řešení</summary>\n",
    "   \n",
    "```python\n",
    "zamestnanci = dict()\n",
    "\n",
    "for cele_jmeno in zamestnanci_raw.splitlines():\n",
    "    if cele_jmeno:\n",
    "        zamestnanci[cele_jmeno] = {\n",
    "            \"krestni_jmeno\": (kr_jmeno := cele_jmeno.split()[0]),\n",
    "            \"prijmeni\": (prijmeni := cele_jmeno.split()[1]),\n",
    "            \"email\": kr_jmeno.lower()[0] + \".\" + prijmeni.lower() + \"@firma.cz\",\n",
    "#             \"email\": f\"{kr_jmeno.lower()[0]}.{prijmeni.lower()}@firma.cz\"\n",
    "        }\n",
    "```\n",
    "</details>"
   ]
  },
  {
   "cell_type": "markdown",
   "metadata": {},
   "source": [
    "<br>\n",
    "\n",
    "### 🧠 CVIČENÍ 🧠, Vyzkoušej si práci s `while` smyčku:"
   ]
  },
  {
   "cell_type": "markdown",
   "metadata": {},
   "source": [
    "Tvým úkolem bude odstraňovat písmena ze zadaného seznamu pomocí funkce `input`:\n",
    "```python\n",
    "pismena = [\"a\", \"a\", \"b\", \"c\", \"d\", \"a\", \"e\", \"g\", \"m\"]\n",
    "```\n",
    "\n",
    "Jakmile budou všechna písmena odstraněná, vypíše tvůj program:\n",
    "```python\n",
    "Seznam je prázdný!\n",
    "```\n",
    "\n",
    "Pokud zapíšeš písmeno, které v zadaném seznamu není, dostaneš upozornění:\n",
    "```python\n",
    "x není součástí písmen!\n",
    "```\n",
    "\n",
    "Průběh může vypadat následovně:\n",
    "```python\n",
    "Začátek: ['a', 'a', 'b', 'c', 'd', 'a', 'e', 'g', 'm']\n",
    "ktere písmeno chceš vyhodit? a\n",
    "Zbývají písmena ['a', 'b', 'c', 'd', 'a', 'e', 'g', 'm']\n",
    "ktere písmeno chceš vyhodit? a\n",
    "Zbývají písmena ['b', 'c', 'd', 'a', 'e', 'g', 'm']\n",
    "ktere písmeno chceš vyhodit? a\n",
    "Zbývají písmena ['b', 'c', 'd', 'e', 'g', 'm']\n",
    "ktere písmeno chceš vyhodit? b\n",
    "Zbývají písmena ['c', 'd', 'e', 'g', 'm']\n",
    "ktere písmeno chceš vyhodit? c\n",
    "Zbývají písmena ['d', 'e', 'g', 'm']\n",
    "ktere písmeno chceš vyhodit? d\n",
    "Zbývají písmena ['e', 'g', 'm']\n",
    "ktere písmeno chceš vyhodit? e\n",
    "Zbývají písmena ['g', 'm']\n",
    "ktere písmeno chceš vyhodit? x\n",
    "x není součástí písmen!\n",
    "ktere písmeno chceš vyhodit? g\n",
    "Zbývají písmena ['m']\n",
    "ktere písmeno chceš vyhodit? m\n",
    "Seznam je prázdný!\n",
    "```"
   ]
  },
  {
   "cell_type": "code",
   "execution_count": null,
   "metadata": {},
   "outputs": [],
   "source": []
  },
  {
   "cell_type": "markdown",
   "metadata": {},
   "source": [
    "<details>\n",
    "  <summary>▶️  Klikni zde pro zobrazení řešení</summary>\n",
    "   \n",
    "```python\n",
    "pismena = [\"a\", \"a\", \"b\", \"c\", \"d\", \"a\", \"e\", \"g\", \"m\"]\n",
    "\n",
    "while pismena:\n",
    "    print(\", \".join(pismena))\n",
    "    \n",
    "    zadani = input(\"ktere písmeno chceš vyhodit?\")\n",
    "    \n",
    "    if zadani not in pismena:\n",
    "        print(zadani + \" není součástí písmen!\")\n",
    "    else:\n",
    "        pismena.remove(zadani)\n",
    "\n",
    "else:\n",
    "    print(\"Konec hry!\")\n",
    "```\n",
    "</details>"
   ]
  },
  {
   "cell_type": "markdown",
   "metadata": {},
   "source": [
    "---"
   ]
  }
 ],
 "metadata": {
  "kernelspec": {
   "display_name": "Python 3 (ipykernel)",
   "language": "python",
   "name": "python3"
  },
  "language_info": {
   "codemirror_mode": {
    "name": "ipython",
    "version": 3
   },
   "file_extension": ".py",
   "mimetype": "text/x-python",
   "name": "python",
   "nbconvert_exporter": "python",
   "pygments_lexer": "ipython3",
   "version": "3.8.10"
  }
 },
 "nbformat": 4,
 "nbformat_minor": 4
}
